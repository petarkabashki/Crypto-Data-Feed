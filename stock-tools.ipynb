{
 "cells": [
  {
   "cell_type": "code",
   "execution_count": null,
   "metadata": {},
   "outputs": [],
   "source": []
  },
  {
   "cell_type": "markdown",
   "metadata": {},
   "source": [
    "## Download Historical OHLC for SP500 companies"
   ]
  },
  {
   "cell_type": "code",
   "execution_count": 7,
   "metadata": {},
   "outputs": [
    {
     "name": "stdout",
     "output_type": "stream",
     "text": [
      "['MMM', 'AOS', 'ABT', 'ABBV', 'ACN', 'ADBE', 'AMD', 'AES', 'AFL', 'A', 'APD', 'ABNB', 'AKAM', 'ALB', 'ARE', 'ALGN', 'ALLE', 'LNT', 'ALL', 'GOOGL', 'GOOG', 'MO', 'AMZN', 'AMCR', 'AEE', 'AAL', 'AEP', 'AXP', 'AIG', 'AMT', 'AWK', 'AMP', 'AME', 'AMGN', 'APH', 'ADI', 'ANSS', 'AON', 'APA', 'AAPL', 'AMAT', 'APTV', 'ACGL', 'ADM', 'ANET', 'AJG', 'AIZ', 'T', 'ATO', 'ADSK', 'ADP', 'AZO', 'AVB', 'AVY', 'AXON', 'BKR', 'BALL', 'BAC', 'BK', 'BBWI', 'BAX', 'BDX', 'BRK.B', 'BBY', 'BIO', 'TECH', 'BIIB', 'BLK', 'BX', 'BA', 'BKNG', 'BWA', 'BSX', 'BMY', 'AVGO', 'BR', 'BRO', 'BF.B', 'BLDR', 'BG', 'BXP', 'CDNS', 'CZR', 'CPT', 'CPB', 'COF', 'CAH', 'KMX', 'CCL', 'CARR', 'CTLT', 'CAT', 'CBOE', 'CBRE', 'CDW', 'CE', 'COR', 'CNC', 'CNP', 'CF', 'CHRW', 'CRL', 'SCHW', 'CHTR', 'CVX', 'CMG', 'CB', 'CHD', 'CI', 'CINF', 'CTAS', 'CSCO', 'C', 'CFG', 'CLX', 'CME', 'CMS', 'KO', 'CTSH', 'CL', 'CMCSA', 'CAG', 'COP', 'ED', 'STZ', 'CEG', 'COO', 'CPRT', 'GLW', 'CPAY', 'CTVA', 'CSGP', 'COST', 'CTRA', 'CRWD', 'CCI', 'CSX', 'CMI', 'CVS', 'DHR', 'DRI', 'DVA', 'DAY', 'DECK', 'DE', 'DAL', 'DVN', 'DXCM', 'FANG', 'DLR', 'DFS', 'DG', 'DLTR', 'D', 'DPZ', 'DOV', 'DOW', 'DHI', 'DTE', 'DUK', 'DD', 'EMN', 'ETN', 'EBAY', 'ECL', 'EIX', 'EW', 'EA', 'ELV', 'EMR', 'ENPH', 'ETR', 'EOG', 'EPAM', 'EQT', 'EFX', 'EQIX', 'EQR', 'ESS', 'EL', 'ETSY', 'EG', 'EVRG', 'ES', 'EXC', 'EXPE', 'EXPD', 'EXR', 'XOM', 'FFIV', 'FDS', 'FICO', 'FAST', 'FRT', 'FDX', 'FIS', 'FITB', 'FSLR', 'FE', 'FI', 'FMC', 'F', 'FTNT', 'FTV', 'FOXA', 'FOX', 'BEN', 'FCX', 'GRMN', 'IT', 'GE', 'GEHC', 'GEV', 'GEN', 'GNRC', 'GD', 'GIS', 'GM', 'GPC', 'GILD', 'GPN', 'GL', 'GDDY', 'GS', 'HAL', 'HIG', 'HAS', 'HCA', 'DOC', 'HSIC', 'HSY', 'HES', 'HPE', 'HLT', 'HOLX', 'HD', 'HON', 'HRL', 'HST', 'HWM', 'HPQ', 'HUBB', 'HUM', 'HBAN', 'HII', 'IBM', 'IEX', 'IDXX', 'ITW', 'INCY', 'IR', 'PODD', 'INTC', 'ICE', 'IFF', 'IP', 'IPG', 'INTU', 'ISRG', 'IVZ', 'INVH', 'IQV', 'IRM', 'JBHT', 'JBL', 'JKHY', 'J', 'JNJ', 'JCI', 'JPM', 'JNPR', 'K', 'KVUE', 'KDP', 'KEY', 'KEYS', 'KMB', 'KIM', 'KMI', 'KKR', 'KLAC', 'KHC', 'KR', 'LHX', 'LH', 'LRCX', 'LW', 'LVS', 'LDOS', 'LEN', 'LLY', 'LIN', 'LYV', 'LKQ', 'LMT', 'L', 'LOW', 'LULU', 'LYB', 'MTB', 'MRO', 'MPC', 'MKTX', 'MAR', 'MMC', 'MLM', 'MAS', 'MA', 'MTCH', 'MKC', 'MCD', 'MCK', 'MDT', 'MRK', 'META', 'MET', 'MTD', 'MGM', 'MCHP', 'MU', 'MSFT', 'MAA', 'MRNA', 'MHK', 'MOH', 'TAP', 'MDLZ', 'MPWR', 'MNST', 'MCO', 'MS', 'MOS', 'MSI', 'MSCI', 'NDAQ', 'NTAP', 'NFLX', 'NEM', 'NWSA', 'NWS', 'NEE', 'NKE', 'NI', 'NDSN', 'NSC', 'NTRS', 'NOC', 'NCLH', 'NRG', 'NUE', 'NVDA', 'NVR', 'NXPI', 'ORLY', 'OXY', 'ODFL', 'OMC', 'ON', 'OKE', 'ORCL', 'OTIS', 'PCAR', 'PKG', 'PANW', 'PARA', 'PH', 'PAYX', 'PAYC', 'PYPL', 'PNR', 'PEP', 'PFE', 'PCG', 'PM', 'PSX', 'PNW', 'PNC', 'POOL', 'PPG', 'PPL', 'PFG', 'PG', 'PGR', 'PLD', 'PRU', 'PEG', 'PTC', 'PSA', 'PHM', 'QRVO', 'PWR', 'QCOM', 'DGX', 'RL', 'RJF', 'RTX', 'O', 'REG', 'REGN', 'RF', 'RSG', 'RMD', 'RVTY', 'ROK', 'ROL', 'ROP', 'ROST', 'RCL', 'SPGI', 'CRM', 'SBAC', 'SLB', 'STX', 'SRE', 'NOW', 'SHW', 'SPG', 'SWKS', 'SJM', 'SW', 'SNA', 'SOLV', 'SO', 'LUV', 'SWK', 'SBUX', 'STT', 'STLD', 'STE', 'SYK', 'SMCI', 'SYF', 'SNPS', 'SYY', 'TMUS', 'TROW', 'TTWO', 'TPR', 'TRGP', 'TGT', 'TEL', 'TDY', 'TFX', 'TER', 'TSLA', 'TXN', 'TXT', 'TMO', 'TJX', 'TSCO', 'TT', 'TDG', 'TRV', 'TRMB', 'TFC', 'TYL', 'TSN', 'USB', 'UBER', 'UDR', 'ULTA', 'UNP', 'UAL', 'UPS', 'URI', 'UNH', 'UHS', 'VLO', 'VTR', 'VLTO', 'VRSN', 'VRSK', 'VZ', 'VRTX', 'VTRS', 'VICI', 'V', 'VST', 'VMC', 'WRB', 'GWW', 'WAB', 'WBA', 'WMT', 'DIS', 'WBD', 'WM', 'WAT', 'WEC', 'WFC', 'WELL', 'WST', 'WDC', 'WY', 'WMB', 'WTW', 'WYNN', 'XEL', 'XYL', 'YUM', 'ZBRA', 'ZBH', 'ZTS']\n"
     ]
    }
   ],
   "source": [
    "import pandas as pd\n",
    "\n",
    "# URL to the Wikipedia page containing S&P 500 companies\n",
    "url = 'https://en.wikipedia.org/wiki/List_of_S%26P_500_companies'\n",
    "\n",
    "# Read the table containing the list of companies\n",
    "table = pd.read_html(url)\n",
    "sp500_table = table[0]\n",
    "\n",
    "# Extract the list of tickers\n",
    "tickers = sp500_table['Symbol'].tolist()\n",
    "print(tickers)"
   ]
  },
  {
   "cell_type": "code",
   "execution_count": null,
   "metadata": {},
   "outputs": [],
   "source": [
    "import yfinance as yf\n",
    "import pandas as pd\n",
    "import os\n",
    "\n",
    "# Create a directory to save the data\n",
    "os.makedirs('sp500_data', exist_ok=True)\n",
    "\n",
    "# Function to fetch and save historical data\n",
    "def fetch_and_save_data(ticker):\n",
    "    try:\n",
    "        # Fetch data\n",
    "        stock_data = yf.download(ticker, start='2000-01-01', end='2025-12-31')\n",
    "        \n",
    "        # Save data to a CSV file\n",
    "        stock_data.to_csv(f'sp500_data/{ticker}.csv')\n",
    "        \n",
    "        print(f\"Data for {ticker} saved successfully.\")\n",
    "    except Exception as e:\n",
    "        print(f\"Could not download data for {ticker}. Error: {e}\")\n",
    "\n",
    "# Fetch and save data for each ticker\n",
    "for ticker in tickers:\n",
    "    fetch_and_save_data(ticker)\n"
   ]
  },
  {
   "cell_type": "code",
   "execution_count": 6,
   "metadata": {},
   "outputs": [
    {
     "name": "stderr",
     "output_type": "stream",
     "text": [
      "[*********************100%%**********************]  1 of 1 completed"
     ]
    },
    {
     "name": "stdout",
     "output_type": "stream",
     "text": [
      "                   Open         High          Low        Close    Adj Close  \\\n",
      "Date                                                                          \n",
      "2000-01-03  1469.250000  1478.000000  1438.359985  1455.219971  1455.219971   \n",
      "2000-01-04  1455.219971  1455.219971  1397.430054  1399.420044  1399.420044   \n",
      "2000-01-05  1399.420044  1413.270020  1377.680054  1402.109985  1402.109985   \n",
      "2000-01-06  1402.109985  1411.900024  1392.099976  1403.449951  1403.449951   \n",
      "2000-01-07  1403.449951  1441.469971  1400.729980  1441.469971  1441.469971   \n",
      "\n",
      "                Volume  \n",
      "Date                    \n",
      "2000-01-03   931800000  \n",
      "2000-01-04  1009000000  \n",
      "2000-01-05  1085500000  \n",
      "2000-01-06  1092300000  \n",
      "2000-01-07  1225200000  \n",
      "Data for the S&P 500 index has been saved to 'sp500_historical_data.csv'.\n"
     ]
    },
    {
     "name": "stderr",
     "output_type": "stream",
     "text": [
      "\n"
     ]
    }
   ],
   "source": [
    "import yfinance as yf\n",
    "import pandas as pd\n",
    "\n",
    "# Define the ticker symbol for the S&P 500 index\n",
    "ticker = '^GSPC'\n",
    "\n",
    "# Define the date range for the historical data\n",
    "start_date = '2000-01-01'\n",
    "end_date = '2025-12-31'\n",
    "\n",
    "# Fetch the historical data for the S&P 500 index\n",
    "sp500_data = yf.download(ticker, start=start_date, end=end_date)\n",
    "\n",
    "# Display the first few rows of the data\n",
    "print(sp500_data.head())\n",
    "\n",
    "# Save the data to a CSV file\n",
    "sp500_data.to_csv('indexes-data/sp500.csv')\n",
    "\n",
    "print(\"Data for the S&P 500 index has been saved to 'sp500_historical_data.csv'.\")\n"
   ]
  },
  {
   "cell_type": "markdown",
   "metadata": {},
   "source": [
    "## Download Historical OHLC for Nasdaq companies"
   ]
  },
  {
   "cell_type": "code",
   "execution_count": 8,
   "metadata": {},
   "outputs": [
    {
     "name": "stdout",
     "output_type": "stream",
     "text": [
      "  Symbol                                      Security Name Market Category  \\\n",
      "0   AACG  ATA Creativity Global - American Depositary Sh...               G   \n",
      "1   AACI          Armada Acquisition Corp. I - Common Stock               G   \n",
      "2  AACIU                  Armada Acquisition Corp. I - Unit               G   \n",
      "3  AACIW               Armada Acquisition Corp. I - Warrant               G   \n",
      "4   AADI               Aadi Bioscience, Inc. - Common Stock               S   \n",
      "\n",
      "  Test Issue Financial Status  Round Lot Size ETF NextShares  \n",
      "0          N                D           100.0   N          N  \n",
      "1          N                N           100.0   N          N  \n",
      "2          N                N           100.0   N          N  \n",
      "3          N                N           100.0   N          N  \n",
      "4          N                N           100.0   N          N  \n"
     ]
    }
   ],
   "source": [
    "import pandas as pd\n",
    "import requests\n",
    "\n",
    "# URL for the NASDAQ listings CSV\n",
    "url = 'ftp://ftp.nasdaqtrader.com/SymbolDirectory/nasdaqlisted.txt'\n",
    "\n",
    "# Read the CSV data\n",
    "nasdaq_list = pd.read_csv(url, sep='|')\n",
    "\n",
    "# Drop the last row as it is just a footer row\n",
    "nasdaq_list = nasdaq_list[:-1]\n",
    "\n",
    "# Display the first few rows\n",
    "print(nasdaq_list.head())\n",
    "\n",
    "# Save to a CSV file\n",
    "nasdaq_list.to_csv('indexes-data/nasdaq_current_list.csv', index=False)\n"
   ]
  },
  {
   "cell_type": "markdown",
   "metadata": {},
   "source": [
    "## Download Historical OHLCV for Russel 2000 companies"
   ]
  },
  {
   "cell_type": "code",
   "execution_count": null,
   "metadata": {},
   "outputs": [],
   "source": []
  },
  {
   "cell_type": "code",
   "execution_count": 3,
   "metadata": {},
   "outputs": [],
   "source": [
    "import yfinance as yf\n",
    "import os\n",
    "\n",
    "# Load the list of Russell 2000 tickers from a CSV file\n",
    "tickers_df = pd.read_csv('russell_2000_components.csv')\n",
    "\n",
    "# Extract the list of tickers\n",
    "tickers = tickers_df['Ticker'].tolist()\n",
    "\n",
    "# Create a directory to save the data\n",
    "os.makedirs('russell_2000_data', exist_ok=True)\n",
    "\n",
    "# Define the date range\n",
    "start_date = '2000-01-01'\n",
    "end_date = '2025-12-31'\n",
    "\n",
    "# Download data for each ticker\n",
    "for ticker in tickers:\n",
    "    try:\n",
    "        # Download the data\n",
    "        data = yf.download(ticker, start=start_date, end=end_date)\n",
    "        \n",
    "        # Save the data to a CSV file\n",
    "        data.to_csv(f'russell_2000_data/{ticker}.csv')\n",
    "        \n",
    "        print(f\"Downloaded data for {ticker}\")\n",
    "    except Exception as e:\n",
    "        print(f\"Could not download data for {ticker}. Error: {e}\")\n"
   ]
  },
  {
   "cell_type": "code",
   "execution_count": null,
   "metadata": {},
   "outputs": [],
   "source": []
  }
 ],
 "metadata": {
  "kernelspec": {
   "display_name": "py310",
   "language": "python",
   "name": "python3"
  },
  "language_info": {
   "codemirror_mode": {
    "name": "ipython",
    "version": 3
   },
   "file_extension": ".py",
   "mimetype": "text/x-python",
   "name": "python",
   "nbconvert_exporter": "python",
   "pygments_lexer": "ipython3",
   "version": "3.10.13"
  }
 },
 "nbformat": 4,
 "nbformat_minor": 2
}
